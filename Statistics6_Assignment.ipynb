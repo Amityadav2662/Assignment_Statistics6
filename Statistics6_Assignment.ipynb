{
 "cells": [
  {
   "cell_type": "code",
   "execution_count": null,
   "id": "57dcea1e-e9d2-47ca-8651-ab9fd76ea87d",
   "metadata": {},
   "outputs": [],
   "source": [
    "# Q1: What is the difference between a t-test and a z-test? Provide an example scenario where you would\n",
    "# use each type of test.\n",
    "Ans.\n",
    "The t-test and z-test are both parametric statistical tests that are used to compare the means of two groups. \n",
    "The main difference between the two tests is that the z-test can only be used when the population standard deviation\n",
    "is known, while the t-test can be used when the population standard deviation is unknown.\n",
    "\n",
    "Example of t-test and z-test \n",
    "1. Z-test: You would use a z-test if you know the population standard deviation and you have a large sample size (n > 30).\n",
    "For example, you could use a z-test to compare the average height of men and women in the United States.\n",
    "\n",
    "2. T-test: You would use a t-test if you don't know the population standard deviation or you have a small sample size (n < 30). \n",
    "For example, you could use a t-test to compare the average test scores of two different groups of students."
   ]
  },
  {
   "cell_type": "code",
   "execution_count": null,
   "id": "e2f5e89e-ab0c-4317-9660-eb340e5aec7c",
   "metadata": {},
   "outputs": [],
   "source": [
    "# Q2: Differentiate between one-tailed and two-tailed tests.\n",
    "Ans.\n",
    "One-tailed and two-tailed tests are two types of hypothesis tests that are used to determine whether there is a statistically\n",
    "significant difference between two groups. The main difference between the two tests is that one-tailed tests allow for the \n",
    "possibility of a difference in only one direction, while two-tailed tests allow for the possibility of a difference in either \n",
    "direction. The one-tailed Size of the critical region is Smaller and the two-tailed Size of the critical region\tis Larger. The\n",
    "one-tailed is More powerful\tand the two-tailed is Less powerful. This all the differences in between one-tailed and two-tailed\n",
    "tests."
   ]
  },
  {
   "cell_type": "code",
   "execution_count": null,
   "id": "1bf2ecda-643d-40ce-9f77-204b677abd01",
   "metadata": {},
   "outputs": [],
   "source": [
    "# Q3: Explain the concept of Type 1 and Type 2 errors in hypothesis testing. Provide an example scenario for\n",
    "# each type of error.\n",
    "Ans.\n",
    "1. Type 1 error :\n",
    "A Type 1 error is also known as a false positive. It occurs when the researcher concludes that there is a statistically \n",
    "significant difference between two groups when there is actually no difference. This can happen if the sample size is too small\n",
    "or if there is a lot of variability in the data.\n",
    "\n",
    "For example, a researcher might hypothesize that a new drug will cause a decrease in blood pressure. In a study with a small\n",
    "sample size, the researcher might conclude that the drug is effective when it is actually not.\n",
    "\n",
    "2. Type 2 error :\n",
    "A Type 2 error is also known as a false negative. It occurs when the researcher fails to conclude that there is a statistically\n",
    "significant difference between two groups when there is actually a difference. This can happen if the sample size is too large or\n",
    "if there is not enough variability in the data.\n",
    "\n",
    "For example, a researcher might hypothesize that a new drug will cause a decrease in blood pressure. In a study with a large sample\n",
    "size, the researcher might fail to conclude that the drug is effective when it actually is."
   ]
  },
  {
   "cell_type": "code",
   "execution_count": null,
   "id": "80e165c2-8c56-4d38-a718-76b9fb44b5ce",
   "metadata": {},
   "outputs": [],
   "source": [
    "# Q4: Explain Bayes's theorem with an example.\n",
    "Ans.\n",
    "Bayes’s theorem is used for the calculation of a conditional probability where intuition often fails. Although widely used in \n",
    "probability, the theorem is being applied in the machine learning field too. Its use in machine learning includes the fitting of a \n",
    "model to a training dataset and developing classification models. \n",
    "\n",
    "Example of Bayes's Theorem\n",
    "The Monty Hall Problem: Imagine you are a contestant on a game show. There are three doors: Door 1, Door 2, and Door 3. Behind one\n",
    "of the doors is a car, while the other two doors hide goats."
   ]
  },
  {
   "cell_type": "code",
   "execution_count": null,
   "id": "4e0dfab1-a45e-4480-855e-8ff3d3ce06ab",
   "metadata": {},
   "outputs": [],
   "source": [
    "# Q5: What is a confidence interval? How to calculate the confidence interval, explain with an example.\n",
    "Ans.\n",
    "A confidence interval is a range of values that is likely to contain the true value of a population parameter. It is calculated\n",
    "based on a sample of data and a confidence level. The confidence level is the probability that the true value of the population\n",
    "parameter lies within the confidence interval.\n",
    "\n",
    "Formula of confidence interval:\n",
    "confidence interval = point estimate ± z * margin of errors"
   ]
  },
  {
   "cell_type": "code",
   "execution_count": 1,
   "id": "264f6604-d136-4df8-9cb8-abd82dc6f346",
   "metadata": {},
   "outputs": [
    {
     "name": "stdout",
     "output_type": "stream",
     "text": [
      "The population mean of confidence level 95% is : 19.45424957783304, 20.54575042216696\n"
     ]
    }
   ],
   "source": [
    "# Example of confidence interval\n",
    "import scipy.stats as stat\n",
    "import math\n",
    "\n",
    "def con_inter(sample_mean,sample_stand_dev,sample_size,confidence_interval):\n",
    "    significance_value = 1 - confidence_interval\n",
    "    \n",
    "    z_critical = stat.norm.ppf(1-significance_value/2)\n",
    "    \n",
    "    margin_of_error = z_critical - (sample_stand_dev/math.sqrt(sample_size))\n",
    "    \n",
    "    lower_bound = sample_mean - margin_of_error\n",
    "    upper_bound = sample_mean + margin_of_error\n",
    "    \n",
    "    return lower_bound,upper_bound\n",
    "\n",
    "sample_mean = 20\n",
    "sample_stand_dev = 10\n",
    "sample_size = 50\n",
    "confidence_interval = 0.95\n",
    "\n",
    "lower_bound,upper_bound = con_inter(sample_mean,sample_stand_dev,sample_size,confidence_interval)\n",
    "print(\"The population mean of confidence level 95% is : {}, {}\".format(lower_bound,upper_bound))"
   ]
  },
  {
   "cell_type": "code",
   "execution_count": 13,
   "id": "b8a9e607-68b5-411d-96a7-684bddea148a",
   "metadata": {},
   "outputs": [
    {
     "name": "stdout",
     "output_type": "stream",
     "text": [
      "Probability of having Condition X given a positive test result: 32.42%\n"
     ]
    }
   ],
   "source": [
    "# Q6. Use Bayes' Theorem to calculate the probability of an event occurring given prior knowledge of the\n",
    "# event's probability and new evidence. Provide a sample problem and solution.\n",
    "\n",
    "# Problem statement:\n",
    "# Suppose there is a certain medical condition called \"Condition X,\" which affects 1% of the population. There is a diagnostic test\n",
    "# for Condition X, but it is not perfect. The test correctly identifies Condition X in 95% of cases where the person actually has \n",
    "# the condition (true positive rate), but it also gives a false positive result in 2% of cases where the person does not have the \n",
    "# condition.\n",
    "# Now, let's say a person from the general population takes the test and receives a positive result. What is the probability that this\n",
    "# person actually has Condition X?\n",
    "\n",
    "def bayes_theorem(affected_person,true_positive_rate,false_negative_rate):\n",
    "    not_affected_person = 1 - affected_person\n",
    "    \n",
    "    total_probability = (true_positive_rate*affected_person) + (false_negative_rate*not_affected_person)\n",
    "    \n",
    "    bayes = (true_positive_rate*affected_person)/total_probability\n",
    "    \n",
    "    return bayes\n",
    "    \n",
    "affected_person = 0.01\n",
    "true_positive_rate = 0.95\n",
    "false_negative_rate = 0.02\n",
    "\n",
    "bayes = bayes_theorem(affected_person,true_positive_rate,false_negative_rate)\n",
    "print(\"Probability of having Condition X given a positive test result: {}%\".format(round(bayes*100,2)))"
   ]
  },
  {
   "cell_type": "code",
   "execution_count": 26,
   "id": "065146e5-e672-4f72-a2d1-6089ac1a1375",
   "metadata": {},
   "outputs": [
    {
     "name": "stdout",
     "output_type": "stream",
     "text": [
      "The population mean of confidence level 95% is : 48.74714279664649, 51.25285720335351\n"
     ]
    }
   ],
   "source": [
    "# Q7. Calculate the 95% confidence interval for a sample of data with a mean of 50 and a standard deviation\n",
    "# of 5. Interpret the results.\n",
    "\n",
    "import scipy.stats as stat\n",
    "import math\n",
    "\n",
    "def con_inter(sample_mean,sample_stand_dev,sample_size,confidence_interval):\n",
    "    significance_value = 1 - confidence_interval\n",
    "    \n",
    "    z_critical = stat.norm.ppf(1-significance_value/2)\n",
    "    \n",
    "    margin_of_error = z_critical - (sample_stand_dev/math.sqrt(sample_size))\n",
    "    \n",
    "    lower_bound = sample_mean - margin_of_error\n",
    "    upper_bound = sample_mean + margin_of_error\n",
    "    \n",
    "    return lower_bound,upper_bound\n",
    "\n",
    "sample_mean = 50\n",
    "sample_stand_dev = 5\n",
    "sample_size = 50\n",
    "confidence_interval = 0.95\n",
    "\n",
    "lower_bound,upper_bound = con_inter(sample_mean,sample_stand_dev,sample_size,confidence_interval)\n",
    "print(\"The population mean of confidence level 95% is : {}, {}\".format(lower_bound,upper_bound))"
   ]
  },
  {
   "cell_type": "code",
   "execution_count": null,
   "id": "cdfd9d82-2359-4edc-b645-6ea3b24e21f3",
   "metadata": {},
   "outputs": [],
   "source": [
    "# Q8. What is the margin of error in a confidence interval? How does sample size affect the margin of error?\n",
    "# Provide an example of a scenario where a larger sample size would result in a smaller margin of error.\n",
    "Ans.\n",
    "The margin of error in a confidence interval is the amount of uncertainty in the estimate. It is the range of values\n",
    "within which the true population value is likely to fall. The larger the margin of error, the less confident we can \n",
    "be that our estimate is accurate.\n",
    "\n",
    "The sample size affects the margin of error in an inverse relationship. This means that as the sample size increases, \n",
    "the margin of error decreases. So, if we want to reduce the margin of error, we need to increase the sample size."
   ]
  },
  {
   "cell_type": "code",
   "execution_count": 33,
   "id": "0067b385-73ca-49ad-9671-564c5107a4ec",
   "metadata": {},
   "outputs": [
    {
     "name": "stdout",
     "output_type": "stream",
     "text": [
      "The sample size 100 of confidence level 95% is : 48.54003601545995, 51.45996398454005\n",
      "The sample size 1000 of confidence level 95% is : 48.198149898468365, 51.801850101531635\n"
     ]
    }
   ],
   "source": [
    "# Suppose a company wants to estimate the average age of its customers. They decide to take two different sample\n",
    "# sizes, one with 100 customers and the other with 1000 customers, to calculate 95% confidence intervals for each \n",
    "# sample.\n",
    "\n",
    "import scipy.stats as stat\n",
    "import math\n",
    "\n",
    "def con_inter(sample_mean,sample_stand_dev,sample_size,confidence_interval):\n",
    "    significance_value = 1 - confidence_interval\n",
    "    \n",
    "    z_critical = stat.norm.ppf(1-significance_value/2)\n",
    "    \n",
    "    margin_of_error = z_critical - (sample_stand_dev/math.sqrt(sample_size))\n",
    "    \n",
    "    lower_bound = sample_mean - margin_of_error\n",
    "    upper_bound = sample_mean + margin_of_error\n",
    "    \n",
    "    return lower_bound,upper_bound\n",
    "\n",
    "sample_mean = 50\n",
    "sample_stand_dev = 5\n",
    "sample_size = 100\n",
    "confidence_interval = 0.95\n",
    "\n",
    "sample_mean1 = 50\n",
    "sample_stand_dev1 = 5\n",
    "sample_size1 = 1000\n",
    "confidence_interval1 = 0.95\n",
    "\n",
    "lower_bound1,upper_bound1 = con_inter(sample_mean,sample_stand_dev,sample_size,confidence_interval)\n",
    "lower_bound2,upper_bound2 = con_inter(sample_mean1,sample_stand_dev1,sample_size1,confidence_interval1)\n",
    "\n",
    "print(\"The sample size 100 of confidence level 95% is : {}, {}\".format(lower_bound1,upper_bound1))\n",
    "print(\"The sample size 1000 of confidence level 95% is : {}, {}\".format(lower_bound2,upper_bound2))"
   ]
  },
  {
   "cell_type": "code",
   "execution_count": 43,
   "id": "1d7bd120-34d1-4d2b-aebd-7adb35fedb93",
   "metadata": {},
   "outputs": [
    {
     "name": "stdout",
     "output_type": "stream",
     "text": [
      "The Z score is: 1.0\n"
     ]
    }
   ],
   "source": [
    "# Q9. Calculate the z-score for a data point with a value of 75, a population mean of 70, and a population\n",
    "# standard deviation of 5. Interpret the results.\n",
    "\n",
    "import scipy.stats as stat\n",
    "\n",
    "def calculate_z_score(sample_mean,sample_stand_dev,data_point):\n",
    "    z_score = (data_point - sample_mean)/sample_stand_dev\n",
    "    \n",
    "    return z_score\n",
    "\n",
    "sample_mean = 70\n",
    "sample_stand_dev = 5\n",
    "data_point = 75\n",
    "\n",
    "z_score = calculate_z_score(sample_mean,sample_stand_dev,data_point)\n",
    "\n",
    "print(\"The Z score is: {}\".format(z_score))"
   ]
  },
  {
   "cell_type": "code",
   "execution_count": 15,
   "id": "90b0b109-a28f-4c25-a33f-7ab333724849",
   "metadata": {},
   "outputs": [
    {
     "name": "stdout",
     "output_type": "stream",
     "text": [
      "The T statistics is : 16.970562748477143\n",
      "The critical value is : 1.6765508919142629\n",
      "We reject the null hypothesis\n"
     ]
    }
   ],
   "source": [
    "# Q10. In a study of the effectiveness of a new weight loss drug, a sample of 50 participants lost an average\n",
    "# of 6 pounds with a standard deviation of 2.5 pounds. Conduct a hypothesis test to determine if the drug is\n",
    "# significantly effective at a 95% confidence level using a t-test.\n",
    "\n",
    "import scipy.stats as stat\n",
    "import math\n",
    "\n",
    "def new_weight_loss(sample_mean,sample_size,sample_stand_dev,population_mean,confidence_interval):\n",
    "    dof = sample_size - 1\n",
    "    significance_value = 1 - confidence_interval\n",
    "    \n",
    "    t_stat = (sample_mean - population_mean)/(sample_stand_dev/math.sqrt(sample_size))\n",
    "    critical_value = stat.t.ppf(1-significance_value,dof)\n",
    "    \n",
    "    return t_stat,critical_value\n",
    "\n",
    "sample_size = 50\n",
    "sample_mean = 6 \n",
    "sample_stand_dev = 2.5\n",
    "population_mean = 0\n",
    "confidence_interval = 0.95\n",
    "\n",
    "t_stat,critical_value = new_weight_loss(sample_mean,sample_size,sample_stand_dev,population_mean,confidence_interval)\n",
    "print(\"The T statistics is :\",t_stat)\n",
    "print(\"The critical value is :\",critical_value)\n",
    "\n",
    "if t_stat > critical_value:\n",
    "    print(\"We reject the null hypothesis\")\n",
    "else:\n",
    "    print(\"We fail to reject the null hypothesis\")"
   ]
  },
  {
   "cell_type": "code",
   "execution_count": 72,
   "id": "9918996b-855c-4985-a7a3-ee2b4c166d16",
   "metadata": {},
   "outputs": [
    {
     "name": "stdout",
     "output_type": "stream",
     "text": [
      "The 95% C.I for the true proportion of people who are satisfied with their job:60.819253938092125 to 69.18074606190788\n"
     ]
    }
   ],
   "source": [
    "# Q11. In a survey of 500 people, 65% reported being satisfied with their current job. Calculate the 95%\n",
    "# confidence interval for the true proportion of people who are satisfied with their job.\n",
    "\n",
    "import scipy.stats as stat\n",
    "\n",
    "def proportion_of_people(sample_size,sample_proportion,confidence_interval):\n",
    "    significance_value = 1 - confidence_interval\n",
    "    \n",
    "    z_critical = stat.norm.ppf(1-significance_value/2)\n",
    "    \n",
    "    margin_of_error = z_critical * math.sqrt(sample_proportion * (1 - sample_proportion)/sample_size)\n",
    "    \n",
    "    lower_bound = sample_proportion - margin_of_error\n",
    "    upper_bound = sample_proportion + margin_of_error\n",
    "    \n",
    "    return lower_bound,upper_bound\n",
    "\n",
    "sample_size = 500\n",
    "sample_proportion = 0.65\n",
    "confidence_interval = 0.95\n",
    "\n",
    "lower_bound,upper_bound = proportion_of_people(sample_size,sample_proportion,confidence_interval)\n",
    "print(\"The 95% C.I for the true proportion of people who are satisfied with their job:{} to {}\".format(lower_bound*100,upper_bound*100))"
   ]
  },
  {
   "cell_type": "code",
   "execution_count": 80,
   "id": "e2622eab-11c2-4172-8283-35a702457517",
   "metadata": {},
   "outputs": [
    {
     "name": "stdout",
     "output_type": "stream",
     "text": [
      "The t-statistics value is : 3.8411063979868794\n",
      "The critical value is : 2.6008872779626224\n",
      "We reject the null hypothesis\n"
     ]
    }
   ],
   "source": [
    "# Q12. A researcher is testing the effectiveness of two different teaching methods on student performance.\n",
    "# Sample A has a mean score of 85 with a standard deviation of 6, while sample B has a mean score of 82\n",
    "# with a standard deviation of 5. Conduct a hypothesis test to determine if the two teaching methods have a\n",
    "# significant difference in student performance using a t-test with a significance level of 0.01.\n",
    "\n",
    "import scipy.stats as stat\n",
    "\n",
    "def student_performance(sample_mean_A,sample_stand_dev_A,sample_size_A,significance_value,\n",
    "                        sample_mean_B,sample_stand_dev_B,sample_size_B):\n",
    "   \n",
    "    dof = sample_size_A + sample_size_B - 2\n",
    "    \n",
    "    t_stat, pvalue = stat.ttest_ind_from_stats(sample_mean_A,sample_stand_dev_A,sample_size_A,\n",
    "                                               sample_mean_B,sample_stand_dev_B,sample_size_B,equal_var = False)\n",
    "    \n",
    "    critical_value = stat.t.ppf((1-significance_value/2),dof)\n",
    "    \n",
    "    return t_stat,critical_value\n",
    "    \n",
    "sample_mean_A = 85\n",
    "sample_stand_dev_A = 6\n",
    "sample_size_A = 100\n",
    "\n",
    "sample_mean_B = 82\n",
    "sample_stand_dev_B = 5\n",
    "sample_size_B = 100\n",
    "\n",
    "significance_value = 0.01\n",
    "t_stat,critical_value = student_performance(sample_mean_A,sample_stand_dev_A,sample_size_A,significance_value,\n",
    "                                            sample_mean_B,sample_stand_dev_B,sample_size_B)\n",
    "print(\"The t-statistics value is :\",t_stat)\n",
    "print(\"The critical value is :\",critical_value)\n",
    "\n",
    "if t_stat > critical_value:\n",
    "    print(\"We reject the null hypothesis\")\n",
    "else:\n",
    "    print(\"We fail to reject the null hypothesis\")"
   ]
  },
  {
   "cell_type": "code",
   "execution_count": 8,
   "id": "e10988ad-9046-48de-886e-2546468caec6",
   "metadata": {},
   "outputs": [
    {
     "name": "stdout",
     "output_type": "stream",
     "text": [
      "The 90% confidence interval for the true population mean is 63.13906055411732 to 66.86093944588268\n"
     ]
    }
   ],
   "source": [
    "# Q13. A population has a mean of 60 and a standard deviation of 8. A sample of 50 observations has a mean\n",
    "# of 65. Calculate the 90% confidence interval for the true population mean.\n",
    "\n",
    "import scipy.stats as stat\n",
    "import math\n",
    "\n",
    "def calcualte(population_mean,population_stand_dev,sample_size,sample_mean,confidence_interval):\n",
    "    significance_value = 1 - confidence_interval\n",
    "    \n",
    "    z_critical = stat.norm.ppf(1-significance_value/2)\n",
    "    margin_of_error = z_critical * (population_stand_dev/math.sqrt(sample_size))\n",
    "    \n",
    "    lower_bound = sample_mean - margin_of_error\n",
    "    upper_bound = sample_mean + margin_of_error\n",
    "    \n",
    "    return lower_bound,upper_bound\n",
    "\n",
    "population_mean = 60\n",
    "population_stand_dev = 8\n",
    "sample_size = 50\n",
    "sample_mean = 65\n",
    "confidence_interval = 0.90\n",
    "\n",
    "lower_bound,upper_bound = calcualte(population_mean,population_stand_dev,sample_size,sample_mean,confidence_interval)\n",
    "print(\"The 90% confidence interval for the true population mean is {} to {}\".format(lower_bound,upper_bound))"
   ]
  },
  {
   "cell_type": "code",
   "execution_count": 14,
   "id": "da2351d1-c328-44fc-b5d9-682490827b50",
   "metadata": {},
   "outputs": [
    {
     "name": "stdout",
     "output_type": "stream",
     "text": [
      "The critical value is : 1.6991270265334972\n",
      "The t_stats value is : 27.386127875258307\n",
      "We reject the null hypothesis\n"
     ]
    }
   ],
   "source": [
    "# Q14. In a study of the effects of caffeine on reaction time, a sample of 30 participants had an average\n",
    "# reaction time of 0.25 seconds with a standard deviation of 0.05 seconds. Conduct a hypothesis test to\n",
    "# determine if the caffeine has a significant effect on reaction time at a 90% confidence level using a t-test.\n",
    "\n",
    "import scipy.stats as  stat\n",
    "\n",
    "def effect_of_caffeine(sample_size,sample_mean,sample_stand_dev,population_mean,confidence_interval):\n",
    "    dof = sample_size - 1\n",
    "    significance_value = 1 - confidence_interval\n",
    "    \n",
    "    critical_value = stat.t.ppf((1-significance_value/2),dof)\n",
    "    t_stats = (sample_mean - population_mean)/(sample_stand_dev/math.sqrt(sample_size))\n",
    "    \n",
    "    return critical_value,t_stats\n",
    "    \n",
    "sample_size = 30\n",
    "sample_mean = 0.25\n",
    "sample_stand_dev = 0.05\n",
    "population_mean = 0\n",
    "confidence_interval = 0.90\n",
    "\n",
    "critical_value,t_stats = effect_of_caffeine(sample_size,sample_mean,sample_stand_dev,population_mean,confidence_interval)\n",
    "print(\"The critical value is :\",critical_value)\n",
    "print(\"The t_stats value is :\",t_stats)\n",
    "\n",
    "if t_stats > critical_value:\n",
    "    print(\"We reject the null hypothesis\")\n",
    "else:\n",
    "    print(\"We fail to reject the null hypothesis\")"
   ]
  }
 ],
 "metadata": {
  "kernelspec": {
   "display_name": "Python 3 (ipykernel)",
   "language": "python",
   "name": "python3"
  },
  "language_info": {
   "codemirror_mode": {
    "name": "ipython",
    "version": 3
   },
   "file_extension": ".py",
   "mimetype": "text/x-python",
   "name": "python",
   "nbconvert_exporter": "python",
   "pygments_lexer": "ipython3",
   "version": "3.10.8"
  }
 },
 "nbformat": 4,
 "nbformat_minor": 5
}
